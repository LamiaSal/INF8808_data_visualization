{
 "cells": [
  {
   "cell_type": "markdown",
   "metadata": {},
   "source": [
    "# TP4 | INF8808\n",
    "\n",
    "In this notebook, we will start by creating a simple app to help explore our data. This step is important in conceiving data visualizations. It helps to determine which type of data visualization is appropriate for our data set, as well as which features we'd like to include. \n",
    "\n",
    "In the rest of this notebook, you will have to complete some cells to prepare for the implementation of an animated bubble chart in the next steps. \n",
    "\n",
    "To begin, take a look at the following cells, where we complete the necessary imports and load the data.\n",
    "\n"
   ]
  },
  {
   "cell_type": "code",
   "execution_count": 21,
   "metadata": {},
   "outputs": [],
   "source": [
    "import pandas as pd\n",
    "import json"
   ]
  },
  {
   "cell_type": "code",
   "execution_count": 22,
   "metadata": {},
   "outputs": [],
   "source": [
    "with open('../src/assets/data/countriesData.json') as data_file:    \n",
    "    data = json.load(data_file)  \n",
    "\n",
    "df_2000 = pd.json_normalize(data, '2000')\n",
    "df_2015 = pd.json_normalize(data, '2015')"
   ]
  },
  {
   "cell_type": "code",
   "execution_count": 23,
   "metadata": {},
   "outputs": [],
   "source": [
    "from jupyter_dash import JupyterDash\n",
    "import dash\n",
    "import dash_html_components as html\n",
    "import dash_core_components as dcc\n",
    "\n",
    "import plotly.express as px"
   ]
  },
  {
   "cell_type": "code",
   "execution_count": 24,
   "metadata": {},
   "outputs": [],
   "source": [
    "external_stylesheets=['https://codepen.io/chriddyp/pen/bWLwgP.css']"
   ]
  },
  {
   "cell_type": "code",
   "execution_count": 25,
   "metadata": {},
   "outputs": [],
   "source": [
    "app = JupyterDash(__name__, external_stylesheets=external_stylesheets)"
   ]
  },
  {
   "cell_type": "code",
   "execution_count": 26,
   "metadata": {},
   "outputs": [
    {
     "data": {
      "text/html": [
       "<div>\n",
       "<style scoped>\n",
       "    .dataframe tbody tr th:only-of-type {\n",
       "        vertical-align: middle;\n",
       "    }\n",
       "\n",
       "    .dataframe tbody tr th {\n",
       "        vertical-align: top;\n",
       "    }\n",
       "\n",
       "    .dataframe thead th {\n",
       "        text-align: right;\n",
       "    }\n",
       "</style>\n",
       "<table border=\"1\" class=\"dataframe\">\n",
       "  <thead>\n",
       "    <tr style=\"text-align: right;\">\n",
       "      <th></th>\n",
       "      <th>Country Name</th>\n",
       "      <th>GDP</th>\n",
       "      <th>CO2</th>\n",
       "      <th>Population</th>\n",
       "      <th>Continent</th>\n",
       "    </tr>\n",
       "  </thead>\n",
       "  <tbody>\n",
       "    <tr>\n",
       "      <th>0</th>\n",
       "      <td>Algeria</td>\n",
       "      <td>1764.973830</td>\n",
       "      <td>2.830380</td>\n",
       "      <td>31042235</td>\n",
       "      <td>Africa</td>\n",
       "    </tr>\n",
       "    <tr>\n",
       "      <th>1</th>\n",
       "      <td>Andorra</td>\n",
       "      <td>21854.246803</td>\n",
       "      <td>8.019284</td>\n",
       "      <td>65390</td>\n",
       "      <td>Europe</td>\n",
       "    </tr>\n",
       "    <tr>\n",
       "      <th>2</th>\n",
       "      <td>Angola</td>\n",
       "      <td>556.836318</td>\n",
       "      <td>0.581961</td>\n",
       "      <td>16395473</td>\n",
       "      <td>Africa</td>\n",
       "    </tr>\n",
       "    <tr>\n",
       "      <th>3</th>\n",
       "      <td>Albania</td>\n",
       "      <td>1126.683318</td>\n",
       "      <td>0.978175</td>\n",
       "      <td>3089027</td>\n",
       "      <td>Europe</td>\n",
       "    </tr>\n",
       "    <tr>\n",
       "      <th>4</th>\n",
       "      <td>Antigua and Barbuda</td>\n",
       "      <td>10920.842688</td>\n",
       "      <td>4.534545</td>\n",
       "      <td>76016</td>\n",
       "      <td>North America</td>\n",
       "    </tr>\n",
       "    <tr>\n",
       "      <th>...</th>\n",
       "      <td>...</td>\n",
       "      <td>...</td>\n",
       "      <td>...</td>\n",
       "      <td>...</td>\n",
       "      <td>...</td>\n",
       "    </tr>\n",
       "    <tr>\n",
       "      <th>169</th>\n",
       "      <td>Vanuatu</td>\n",
       "      <td>1470.572265</td>\n",
       "      <td>0.455966</td>\n",
       "      <td>184972</td>\n",
       "      <td>Oceania</td>\n",
       "    </tr>\n",
       "    <tr>\n",
       "      <th>170</th>\n",
       "      <td>Vietnam</td>\n",
       "      <td>390.093326</td>\n",
       "      <td>0.671309</td>\n",
       "      <td>79910412</td>\n",
       "      <td>Asia</td>\n",
       "    </tr>\n",
       "    <tr>\n",
       "      <th>171</th>\n",
       "      <td>Yemen</td>\n",
       "      <td>554.448633</td>\n",
       "      <td>0.841075</td>\n",
       "      <td>17409072</td>\n",
       "      <td>Asia</td>\n",
       "    </tr>\n",
       "    <tr>\n",
       "      <th>172</th>\n",
       "      <td>Zambia</td>\n",
       "      <td>345.689554</td>\n",
       "      <td>0.174972</td>\n",
       "      <td>10415944</td>\n",
       "      <td>Africa</td>\n",
       "    </tr>\n",
       "    <tr>\n",
       "      <th>173</th>\n",
       "      <td>Zimbabwe</td>\n",
       "      <td>563.057741</td>\n",
       "      <td>1.171874</td>\n",
       "      <td>11881477</td>\n",
       "      <td>Africa</td>\n",
       "    </tr>\n",
       "  </tbody>\n",
       "</table>\n",
       "<p>174 rows × 5 columns</p>\n",
       "</div>"
      ],
      "text/plain": [
       "            Country Name           GDP       CO2  Population      Continent\n",
       "0                Algeria   1764.973830  2.830380    31042235         Africa\n",
       "1                Andorra  21854.246803  8.019284       65390         Europe\n",
       "2                 Angola    556.836318  0.581961    16395473         Africa\n",
       "3                Albania   1126.683318  0.978175     3089027         Europe\n",
       "4    Antigua and Barbuda  10920.842688  4.534545       76016  North America\n",
       "..                   ...           ...       ...         ...            ...\n",
       "169              Vanuatu   1470.572265  0.455966      184972        Oceania\n",
       "170              Vietnam    390.093326  0.671309    79910412           Asia\n",
       "171                Yemen    554.448633  0.841075    17409072           Asia\n",
       "172               Zambia    345.689554  0.174972    10415944         Africa\n",
       "173             Zimbabwe    563.057741  1.171874    11881477         Africa\n",
       "\n",
       "[174 rows x 5 columns]"
      ]
     },
     "execution_count": 26,
     "metadata": {},
     "output_type": "execute_result"
    }
   ],
   "source": [
    "df_2000"
   ]
  },
  {
   "cell_type": "code",
   "execution_count": 27,
   "metadata": {},
   "outputs": [
    {
     "data": {
      "text/html": [
       "<div>\n",
       "<style scoped>\n",
       "    .dataframe tbody tr th:only-of-type {\n",
       "        vertical-align: middle;\n",
       "    }\n",
       "\n",
       "    .dataframe tbody tr th {\n",
       "        vertical-align: top;\n",
       "    }\n",
       "\n",
       "    .dataframe thead th {\n",
       "        text-align: right;\n",
       "    }\n",
       "</style>\n",
       "<table border=\"1\" class=\"dataframe\">\n",
       "  <thead>\n",
       "    <tr style=\"text-align: right;\">\n",
       "      <th></th>\n",
       "      <th>Country Name</th>\n",
       "      <th>GDP</th>\n",
       "      <th>CO2</th>\n",
       "      <th>Population</th>\n",
       "      <th>Continent</th>\n",
       "    </tr>\n",
       "  </thead>\n",
       "  <tbody>\n",
       "    <tr>\n",
       "      <th>0</th>\n",
       "      <td>Albania</td>\n",
       "      <td>3952.801215</td>\n",
       "      <td>1.602648</td>\n",
       "      <td>2880703</td>\n",
       "      <td>Europe</td>\n",
       "    </tr>\n",
       "    <tr>\n",
       "      <th>1</th>\n",
       "      <td>Algeria</td>\n",
       "      <td>4177.892515</td>\n",
       "      <td>3.854557</td>\n",
       "      <td>39728025</td>\n",
       "      <td>Africa</td>\n",
       "    </tr>\n",
       "    <tr>\n",
       "      <th>2</th>\n",
       "      <td>Andorra</td>\n",
       "      <td>35762.523074</td>\n",
       "      <td>5.969786</td>\n",
       "      <td>78011</td>\n",
       "      <td>Europe</td>\n",
       "    </tr>\n",
       "    <tr>\n",
       "      <th>3</th>\n",
       "      <td>Angola</td>\n",
       "      <td>4166.979684</td>\n",
       "      <td>1.240245</td>\n",
       "      <td>27884381</td>\n",
       "      <td>Africa</td>\n",
       "    </tr>\n",
       "    <tr>\n",
       "      <th>4</th>\n",
       "      <td>Antigua and Barbuda</td>\n",
       "      <td>14286.093160</td>\n",
       "      <td>5.839546</td>\n",
       "      <td>93566</td>\n",
       "      <td>North America</td>\n",
       "    </tr>\n",
       "    <tr>\n",
       "      <th>...</th>\n",
       "      <td>...</td>\n",
       "      <td>...</td>\n",
       "      <td>...</td>\n",
       "      <td>...</td>\n",
       "      <td>...</td>\n",
       "    </tr>\n",
       "    <tr>\n",
       "      <th>169</th>\n",
       "      <td>Vanuatu</td>\n",
       "      <td>2801.939848</td>\n",
       "      <td>0.486896</td>\n",
       "      <td>271130</td>\n",
       "      <td>Oceania</td>\n",
       "    </tr>\n",
       "    <tr>\n",
       "      <th>170</th>\n",
       "      <td>Vietnam</td>\n",
       "      <td>2085.101484</td>\n",
       "      <td>2.032108</td>\n",
       "      <td>92677076</td>\n",
       "      <td>Asia</td>\n",
       "    </tr>\n",
       "    <tr>\n",
       "      <th>171</th>\n",
       "      <td>Yemen</td>\n",
       "      <td>1395.439633</td>\n",
       "      <td>0.497091</td>\n",
       "      <td>26497889</td>\n",
       "      <td>Asia</td>\n",
       "    </tr>\n",
       "    <tr>\n",
       "      <th>172</th>\n",
       "      <td>Zambia</td>\n",
       "      <td>1337.796110</td>\n",
       "      <td>0.285428</td>\n",
       "      <td>15879361</td>\n",
       "      <td>Africa</td>\n",
       "    </tr>\n",
       "    <tr>\n",
       "      <th>173</th>\n",
       "      <td>Zimbabwe</td>\n",
       "      <td>1445.071062</td>\n",
       "      <td>0.891624</td>\n",
       "      <td>13814629</td>\n",
       "      <td>Africa</td>\n",
       "    </tr>\n",
       "  </tbody>\n",
       "</table>\n",
       "<p>174 rows × 5 columns</p>\n",
       "</div>"
      ],
      "text/plain": [
       "            Country Name           GDP       CO2  Population      Continent\n",
       "0                Albania   3952.801215  1.602648     2880703         Europe\n",
       "1                Algeria   4177.892515  3.854557    39728025         Africa\n",
       "2                Andorra  35762.523074  5.969786       78011         Europe\n",
       "3                 Angola   4166.979684  1.240245    27884381         Africa\n",
       "4    Antigua and Barbuda  14286.093160  5.839546       93566  North America\n",
       "..                   ...           ...       ...         ...            ...\n",
       "169              Vanuatu   2801.939848  0.486896      271130        Oceania\n",
       "170              Vietnam   2085.101484  2.032108    92677076           Asia\n",
       "171                Yemen   1395.439633  0.497091    26497889           Asia\n",
       "172               Zambia   1337.796110  0.285428    15879361         Africa\n",
       "173             Zimbabwe   1445.071062  0.891624    13814629         Africa\n",
       "\n",
       "[174 rows x 5 columns]"
      ]
     },
     "execution_count": 27,
     "metadata": {},
     "output_type": "execute_result"
    }
   ],
   "source": [
    "df_2015"
   ]
  },
  {
   "cell_type": "markdown",
   "metadata": {},
   "source": [
    "# Question 1 \n",
    "\n",
    "You notice that the tables `df_2000` and `df_2015` have columns `GDP` and `CO2`, which you wish to include in your visualization. \n",
    "\n",
    "These columns contain numbers with many decimal places, but you are only planning on displaying numbers up to two decimal places in your visualization. \n",
    "\n",
    "Round the numbers in these dataframes so they only contain numbers up to two decimal places."
   ]
  },
  {
   "cell_type": "code",
   "execution_count": 28,
   "metadata": {},
   "outputs": [],
   "source": [
    "# TODO : Round the values\n",
    "df_2000 = df_2000.round(2)\n",
    "df_2015 = df_2015.round(2)"
   ]
  },
  {
   "cell_type": "code",
   "execution_count": 29,
   "metadata": {},
   "outputs": [
    {
     "data": {
      "text/html": [
       "<div>\n",
       "<style scoped>\n",
       "    .dataframe tbody tr th:only-of-type {\n",
       "        vertical-align: middle;\n",
       "    }\n",
       "\n",
       "    .dataframe tbody tr th {\n",
       "        vertical-align: top;\n",
       "    }\n",
       "\n",
       "    .dataframe thead th {\n",
       "        text-align: right;\n",
       "    }\n",
       "</style>\n",
       "<table border=\"1\" class=\"dataframe\">\n",
       "  <thead>\n",
       "    <tr style=\"text-align: right;\">\n",
       "      <th></th>\n",
       "      <th>Country Name</th>\n",
       "      <th>GDP</th>\n",
       "      <th>CO2</th>\n",
       "      <th>Population</th>\n",
       "      <th>Continent</th>\n",
       "    </tr>\n",
       "  </thead>\n",
       "  <tbody>\n",
       "    <tr>\n",
       "      <th>0</th>\n",
       "      <td>Algeria</td>\n",
       "      <td>1764.97</td>\n",
       "      <td>2.83</td>\n",
       "      <td>31042235</td>\n",
       "      <td>Africa</td>\n",
       "    </tr>\n",
       "    <tr>\n",
       "      <th>1</th>\n",
       "      <td>Andorra</td>\n",
       "      <td>21854.25</td>\n",
       "      <td>8.02</td>\n",
       "      <td>65390</td>\n",
       "      <td>Europe</td>\n",
       "    </tr>\n",
       "    <tr>\n",
       "      <th>2</th>\n",
       "      <td>Angola</td>\n",
       "      <td>556.84</td>\n",
       "      <td>0.58</td>\n",
       "      <td>16395473</td>\n",
       "      <td>Africa</td>\n",
       "    </tr>\n",
       "    <tr>\n",
       "      <th>3</th>\n",
       "      <td>Albania</td>\n",
       "      <td>1126.68</td>\n",
       "      <td>0.98</td>\n",
       "      <td>3089027</td>\n",
       "      <td>Europe</td>\n",
       "    </tr>\n",
       "    <tr>\n",
       "      <th>4</th>\n",
       "      <td>Antigua and Barbuda</td>\n",
       "      <td>10920.84</td>\n",
       "      <td>4.53</td>\n",
       "      <td>76016</td>\n",
       "      <td>North America</td>\n",
       "    </tr>\n",
       "    <tr>\n",
       "      <th>...</th>\n",
       "      <td>...</td>\n",
       "      <td>...</td>\n",
       "      <td>...</td>\n",
       "      <td>...</td>\n",
       "      <td>...</td>\n",
       "    </tr>\n",
       "    <tr>\n",
       "      <th>169</th>\n",
       "      <td>Vanuatu</td>\n",
       "      <td>1470.57</td>\n",
       "      <td>0.46</td>\n",
       "      <td>184972</td>\n",
       "      <td>Oceania</td>\n",
       "    </tr>\n",
       "    <tr>\n",
       "      <th>170</th>\n",
       "      <td>Vietnam</td>\n",
       "      <td>390.09</td>\n",
       "      <td>0.67</td>\n",
       "      <td>79910412</td>\n",
       "      <td>Asia</td>\n",
       "    </tr>\n",
       "    <tr>\n",
       "      <th>171</th>\n",
       "      <td>Yemen</td>\n",
       "      <td>554.45</td>\n",
       "      <td>0.84</td>\n",
       "      <td>17409072</td>\n",
       "      <td>Asia</td>\n",
       "    </tr>\n",
       "    <tr>\n",
       "      <th>172</th>\n",
       "      <td>Zambia</td>\n",
       "      <td>345.69</td>\n",
       "      <td>0.17</td>\n",
       "      <td>10415944</td>\n",
       "      <td>Africa</td>\n",
       "    </tr>\n",
       "    <tr>\n",
       "      <th>173</th>\n",
       "      <td>Zimbabwe</td>\n",
       "      <td>563.06</td>\n",
       "      <td>1.17</td>\n",
       "      <td>11881477</td>\n",
       "      <td>Africa</td>\n",
       "    </tr>\n",
       "  </tbody>\n",
       "</table>\n",
       "<p>174 rows × 5 columns</p>\n",
       "</div>"
      ],
      "text/plain": [
       "            Country Name       GDP   CO2  Population      Continent\n",
       "0                Algeria   1764.97  2.83    31042235         Africa\n",
       "1                Andorra  21854.25  8.02       65390         Europe\n",
       "2                 Angola    556.84  0.58    16395473         Africa\n",
       "3                Albania   1126.68  0.98     3089027         Europe\n",
       "4    Antigua and Barbuda  10920.84  4.53       76016  North America\n",
       "..                   ...       ...   ...         ...            ...\n",
       "169              Vanuatu   1470.57  0.46      184972        Oceania\n",
       "170              Vietnam    390.09  0.67    79910412           Asia\n",
       "171                Yemen    554.45  0.84    17409072           Asia\n",
       "172               Zambia    345.69  0.17    10415944         Africa\n",
       "173             Zimbabwe    563.06  1.17    11881477         Africa\n",
       "\n",
       "[174 rows x 5 columns]"
      ]
     },
     "execution_count": 29,
     "metadata": {},
     "output_type": "execute_result"
    }
   ],
   "source": [
    "# Use this cell to check your answer\n",
    "df_2000"
   ]
  },
  {
   "cell_type": "code",
   "execution_count": 30,
   "metadata": {},
   "outputs": [
    {
     "data": {
      "text/html": [
       "<div>\n",
       "<style scoped>\n",
       "    .dataframe tbody tr th:only-of-type {\n",
       "        vertical-align: middle;\n",
       "    }\n",
       "\n",
       "    .dataframe tbody tr th {\n",
       "        vertical-align: top;\n",
       "    }\n",
       "\n",
       "    .dataframe thead th {\n",
       "        text-align: right;\n",
       "    }\n",
       "</style>\n",
       "<table border=\"1\" class=\"dataframe\">\n",
       "  <thead>\n",
       "    <tr style=\"text-align: right;\">\n",
       "      <th></th>\n",
       "      <th>Country Name</th>\n",
       "      <th>GDP</th>\n",
       "      <th>CO2</th>\n",
       "      <th>Population</th>\n",
       "      <th>Continent</th>\n",
       "    </tr>\n",
       "  </thead>\n",
       "  <tbody>\n",
       "    <tr>\n",
       "      <th>0</th>\n",
       "      <td>Albania</td>\n",
       "      <td>3952.80</td>\n",
       "      <td>1.60</td>\n",
       "      <td>2880703</td>\n",
       "      <td>Europe</td>\n",
       "    </tr>\n",
       "    <tr>\n",
       "      <th>1</th>\n",
       "      <td>Algeria</td>\n",
       "      <td>4177.89</td>\n",
       "      <td>3.85</td>\n",
       "      <td>39728025</td>\n",
       "      <td>Africa</td>\n",
       "    </tr>\n",
       "    <tr>\n",
       "      <th>2</th>\n",
       "      <td>Andorra</td>\n",
       "      <td>35762.52</td>\n",
       "      <td>5.97</td>\n",
       "      <td>78011</td>\n",
       "      <td>Europe</td>\n",
       "    </tr>\n",
       "    <tr>\n",
       "      <th>3</th>\n",
       "      <td>Angola</td>\n",
       "      <td>4166.98</td>\n",
       "      <td>1.24</td>\n",
       "      <td>27884381</td>\n",
       "      <td>Africa</td>\n",
       "    </tr>\n",
       "    <tr>\n",
       "      <th>4</th>\n",
       "      <td>Antigua and Barbuda</td>\n",
       "      <td>14286.09</td>\n",
       "      <td>5.84</td>\n",
       "      <td>93566</td>\n",
       "      <td>North America</td>\n",
       "    </tr>\n",
       "    <tr>\n",
       "      <th>...</th>\n",
       "      <td>...</td>\n",
       "      <td>...</td>\n",
       "      <td>...</td>\n",
       "      <td>...</td>\n",
       "      <td>...</td>\n",
       "    </tr>\n",
       "    <tr>\n",
       "      <th>169</th>\n",
       "      <td>Vanuatu</td>\n",
       "      <td>2801.94</td>\n",
       "      <td>0.49</td>\n",
       "      <td>271130</td>\n",
       "      <td>Oceania</td>\n",
       "    </tr>\n",
       "    <tr>\n",
       "      <th>170</th>\n",
       "      <td>Vietnam</td>\n",
       "      <td>2085.10</td>\n",
       "      <td>2.03</td>\n",
       "      <td>92677076</td>\n",
       "      <td>Asia</td>\n",
       "    </tr>\n",
       "    <tr>\n",
       "      <th>171</th>\n",
       "      <td>Yemen</td>\n",
       "      <td>1395.44</td>\n",
       "      <td>0.50</td>\n",
       "      <td>26497889</td>\n",
       "      <td>Asia</td>\n",
       "    </tr>\n",
       "    <tr>\n",
       "      <th>172</th>\n",
       "      <td>Zambia</td>\n",
       "      <td>1337.80</td>\n",
       "      <td>0.29</td>\n",
       "      <td>15879361</td>\n",
       "      <td>Africa</td>\n",
       "    </tr>\n",
       "    <tr>\n",
       "      <th>173</th>\n",
       "      <td>Zimbabwe</td>\n",
       "      <td>1445.07</td>\n",
       "      <td>0.89</td>\n",
       "      <td>13814629</td>\n",
       "      <td>Africa</td>\n",
       "    </tr>\n",
       "  </tbody>\n",
       "</table>\n",
       "<p>174 rows × 5 columns</p>\n",
       "</div>"
      ],
      "text/plain": [
       "            Country Name       GDP   CO2  Population      Continent\n",
       "0                Albania   3952.80  1.60     2880703         Europe\n",
       "1                Algeria   4177.89  3.85    39728025         Africa\n",
       "2                Andorra  35762.52  5.97       78011         Europe\n",
       "3                 Angola   4166.98  1.24    27884381         Africa\n",
       "4    Antigua and Barbuda  14286.09  5.84       93566  North America\n",
       "..                   ...       ...   ...         ...            ...\n",
       "169              Vanuatu   2801.94  0.49      271130        Oceania\n",
       "170              Vietnam   2085.10  2.03    92677076           Asia\n",
       "171                Yemen   1395.44  0.50    26497889           Asia\n",
       "172               Zambia   1337.80  0.29    15879361         Africa\n",
       "173             Zimbabwe   1445.07  0.89    13814629         Africa\n",
       "\n",
       "[174 rows x 5 columns]"
      ]
     },
     "execution_count": 30,
     "metadata": {},
     "output_type": "execute_result"
    }
   ],
   "source": [
    "# Use this cell to check your answer\n",
    "df_2015"
   ]
  },
  {
   "cell_type": "markdown",
   "metadata": {},
   "source": [
    "# Question 2\n",
    "\n",
    "Given the data you have, you decide to create a simple scatter plot for each dataframe.\n",
    "\n",
    "In the next cells, fill the functions to accomplish this task. \n",
    "\n",
    "### 2.1\n",
    "\n",
    "First, fill the `get_scatter` function, which returns a scatter plot figure for the given data frame. Its x axis is GDP and its y axis is CO2. Its `hover_name` property is represented by the country name. The title of the scatter plot is passed as argument. The axes should be represented as linearly scaled.\n",
    "\n",
    "### 2.2\n",
    "\n",
    "Second, fill the `get_range` function, which will help to more easily compare the two scatter plots. We want both scatter plots to have the same range for their x and y axes, and to be able to see all the points in each scatter plot. Thus, for the given column, the function should return an array containing the minimum and maximum across the two dataframes. \n",
    "\n"
   ]
  },
  {
   "cell_type": "code",
   "execution_count": 31,
   "metadata": {},
   "outputs": [],
   "source": [
    "def get_scatter(df, title):\n",
    "    # TODO : Construct the scatter plot\n",
    "    fig = px.scatter(df, x='GDP', y='CO2',hover_name = df['Country Name'], title = title, \n",
    "                    labels = dict(x = 'GDP', y = 'CO2'))\n",
    "    return fig"
   ]
  },
  {
   "cell_type": "code",
   "execution_count": 32,
   "metadata": {},
   "outputs": [],
   "source": [
    "def get_range(col, df1, df2):\n",
    "    # TODO : Calculate the range\n",
    "    minDF1 = df1[col].min()\n",
    "    maxDF1 = df1[col].max()\n",
    "    minDF2 = df2[col].min()\n",
    "    maxDF2 = df2[col].max()      \n",
    "    return min(minDF1, minDF2), max(maxDF1, maxDF2)"
   ]
  },
  {
   "cell_type": "markdown",
   "metadata": {},
   "source": [
    "Run these next three cells to check your answer. You should see your two scatter plots side by side."
   ]
  },
  {
   "cell_type": "code",
   "execution_count": 33,
   "metadata": {},
   "outputs": [
    {
     "data": {
      "application/vnd.plotly.v1+json": {
       "config": {
        "plotlyServerURL": "https://plot.ly"
       },
       "data": [
        {
         "hovertemplate": "<b>%{hovertext}</b><br><br>GDP=%{x}<br>CO2=%{y}<extra></extra>",
         "hovertext": [
          "Algeria",
          "Andorra",
          "Angola",
          "Albania",
          "Antigua and Barbuda",
          "Argentina",
          "Armenia",
          "Australia",
          "Austria",
          "Azerbaijan",
          "Bahamas",
          "Bahrain",
          "Bangladesh",
          "Barbados",
          "Belarus",
          "Belgium",
          "Belize",
          "Benin",
          "Bhutan",
          "Bolivia",
          "Bosnia and Herzegovina",
          "Botswana",
          "Brazil",
          "Bulgaria",
          "Burkina Faso",
          "Burundi",
          "Cambodia",
          "Cameroon",
          "Canada",
          "Central African Republic",
          "Chad",
          "Chile",
          "China",
          "Colombia",
          "Comoros",
          "The Democratic Republic of Congo",
          "Congo",
          "Costa Rica",
          "Cote d'Ivoire",
          "Croatia",
          "Cuba",
          "Cyprus",
          "Czech Republic",
          "Denmark",
          "Djibouti",
          "Dominica",
          "Dominican Republic",
          "Ecuador",
          "Egypt",
          "El Salvador",
          "Equatorial Guinea",
          "Estonia",
          "Ethiopia",
          "Faroe Islands",
          "Fiji",
          "Finland",
          "Gabon",
          "Gambia",
          "Georgia",
          "Germany",
          "Ghana",
          "Greece",
          "Greenland",
          "Grenada",
          "Guatemala",
          "Guinea",
          "Guinea-Bissau",
          "Guyana",
          "Haiti",
          "Honduras",
          "Hong Kong",
          "Hungary",
          "Iceland",
          "India",
          "Indonesia",
          "Iran",
          "Ireland",
          "Israel",
          "Jamaica",
          "Japan",
          "Jordan",
          "Kazakhstan",
          "Kenya",
          "Kiribati",
          "South Korea",
          "Kuwait",
          "Kyrgyz Republic",
          "Laos",
          "Latvia",
          "Lebanon",
          "Lesotho",
          "Liberia",
          "Libya",
          "Lithuania",
          "Luxembourg",
          "Macao",
          "Madagascar",
          "Malawi",
          "Malaysia",
          "Maldives",
          "Mali",
          "Malta",
          "Marshall Islands",
          "Mauritania",
          "Mauritius",
          "Mexico",
          "Moldova",
          "Mongolia",
          "Morocco",
          "Mozambique",
          "Myanmar",
          "Namibia",
          "Nepal",
          "Netherlands",
          "New Zealand",
          "Nicaragua",
          "Niger",
          "Nigeria",
          "North Macedonia",
          "Norway",
          "Oman",
          "Pakistan",
          "Palau",
          "Panama",
          "Papua New Guinea",
          "Paraguay",
          "Peru",
          "Philippines",
          "Poland",
          "Portugal",
          "Qatar",
          "Romania",
          "Russian Federation",
          "Rwanda",
          "Samoa",
          "Saudi Arabia",
          "Senegal",
          "Seychelles",
          "Sierra Leone",
          "Singapore",
          "Slovak Republic",
          "Slovenia",
          "Solomon Islands",
          "South Africa",
          "Spain",
          "Sri Lanka",
          "Saint Kitts and Nevis",
          "Saint Lucia",
          "Saint Vincent and the Grenadines",
          "Suriname",
          "Sweden",
          "Switzerland",
          "Tajikistan",
          "Tanzania",
          "Thailand",
          "Togo",
          "Tonga",
          "Trinidad and Tobago",
          "Tunisia",
          "Turkey",
          "Turkmenistan",
          "Tuvalu",
          "Uganda",
          "Ukraine",
          "United Arab Emirates",
          "United Kingdom",
          "United States",
          "Uruguay",
          "Uzbekistan",
          "Vanuatu",
          "Vietnam",
          "Yemen",
          "Zambia",
          "Zimbabwe"
         ],
         "legendgroup": "",
         "marker": {
          "color": "#636efa",
          "symbol": "circle"
         },
         "mode": "markers",
         "name": "",
         "orientation": "v",
         "showlegend": false,
         "type": "scatter",
         "x": [
          1764.97,
          21854.25,
          556.84,
          1126.68,
          10920.84,
          7708.1,
          622.74,
          21679.25,
          24564.46,
          655.1,
          27097.61,
          13636.4,
          418.07,
          11268.25,
          1276.29,
          23041.53,
          3364.33,
          511.4,
          718.19,
          997.58,
          1467.78,
          3522.31,
          3749.75,
          1621.24,
          254.72,
          136.46,
          302.58,
          649.99,
          24190.25,
          251.21,
          165.76,
          5074.9,
          959.37,
          2520.48,
          645.82,
          405.22,
          1029.58,
          3772.87,
          651.31,
          4849.53,
          2747.1,
          14388.35,
          6011.62,
          30743.55,
          768.18,
          4787.78,
          2869.11,
          1445.28,
          1450.48,
          2001.54,
          1725.55,
          4075.97,
          124.46,
          22653.32,
          2076.57,
          24285.47,
          4125.72,
          594.15,
          749.91,
          23635.93,
          258.47,
          12042.95,
          19004.11,
          5057.17,
          1664.3,
          363.48,
          308.14,
          954.4,
          467.15,
          1080.46,
          25756.66,
          4624.28,
          32018.06,
          443.31,
          780.19,
          1670.01,
          26241.36,
          21043.57,
          3384.69,
          38532.04,
          1674.83,
          1229,
          397.48,
          796.89,
          12256.99,
          18440.38,
          279.62,
          325.19,
          3351.23,
          4491.64,
          436.49,
          306.83,
          7142.77,
          3297.35,
          48736,
          15710.09,
          293.61,
          156.39,
          4043.66,
          2234.58,
          269.87,
          10391,
          2272.72,
          676.57,
          3929.08,
          7157.81,
          440.67,
          474.22,
          1334.94,
          313.57,
          190.61,
          2136.44,
          229.49,
          26149.41,
          13641.1,
          1007.5,
          197.52,
          567.93,
          1854.15,
          38131.46,
          8601.25,
          576.2,
          7647.93,
          4060.32,
          602.19,
          1663.61,
          1955.59,
          1072.81,
          4492.73,
          11497.75,
          29976.12,
          1659.91,
          1771.59,
          218.68,
          1542.07,
          9171.33,
          604.65,
          7578.85,
          138.7,
          23852.33,
          5413.15,
          10201.3,
          1054.39,
          3032.43,
          14713.07,
          869.7,
          9836.2,
          5950.35,
          3676.44,
          2012.26,
          29624.91,
          37868.32,
          138.43,
          410.95,
          2007.74,
          302.21,
          2065.5,
          6435.16,
          2211.83,
          4316.55,
          643.17,
          1462.85,
          261.87,
          635.7,
          33291.42,
          28149.87,
          36334.91,
          6875.02,
          558.23,
          1470.57,
          390.09,
          554.45,
          345.69,
          563.06
         ],
         "xaxis": "x",
         "y": [
          2.83,
          8.02,
          0.58,
          0.98,
          4.53,
          3.85,
          1.13,
          17.2,
          7.77,
          3.67,
          6.55,
          28.32,
          0.22,
          4.24,
          5.39,
          11.23,
          1.6,
          0.23,
          0.67,
          1.31,
          3.68,
          2.3,
          1.88,
          5.33,
          0.09,
          0.04,
          0.16,
          0.22,
          17.41,
          0.07,
          0.06,
          3.83,
          2.7,
          1.46,
          0.19,
          0.02,
          0.34,
          1.38,
          0.41,
          4.33,
          2.34,
          7.4,
          12.07,
          9.61,
          0.51,
          1.47,
          2.34,
          1.63,
          2.05,
          0.98,
          0.76,
          10.64,
          0.05,
          14.75,
          1.04,
          10.08,
          3.82,
          0.21,
          1.11,
          10.1,
          0.33,
          8.48,
          8.09,
          1.85,
          0.86,
          0.2,
          0.12,
          2.16,
          0.16,
          0.77,
          6.07,
          5.47,
          7.69,
          0.98,
          1.25,
          5.67,
          10.83,
          9.58,
          3.88,
          9.61,
          3.03,
          7.93,
          0.33,
          0.39,
          9.52,
          26.19,
          0.95,
          0.18,
          2.68,
          3.97,
          0.91,
          0.15,
          8.79,
          3.48,
          18.89,
          3.81,
          0.12,
          0.08,
          5.42,
          1.61,
          0.08,
          5.42,
          1.95,
          0.45,
          2.27,
          4.03,
          1.2,
          3.13,
          1.18,
          0.08,
          0.22,
          0.92,
          0.13,
          10.92,
          8.55,
          0.74,
          0.06,
          0.65,
          5.93,
          8.83,
          9.56,
          0.75,
          10.94,
          1.91,
          0.46,
          0.69,
          1.15,
          0.94,
          7.82,
          6.1,
          58.62,
          4.04,
          10.63,
          0.07,
          0.82,
          14.37,
          0.4,
          7.05,
          0.09,
          12.17,
          6.66,
          7.24,
          0.37,
          8.42,
          7.26,
          0.55,
          3.91,
          2.22,
          1.36,
          4.66,
          5.56,
          5.44,
          0.36,
          0.08,
          2.74,
          0.28,
          0.97,
          18.81,
          2.05,
          3.42,
          8.31,
          0.78,
          0.06,
          6.53,
          35.92,
          9.2,
          20.18,
          1.6,
          4.94,
          0.46,
          0.67,
          0.84,
          0.17,
          1.17
         ],
         "yaxis": "y"
        }
       ],
       "layout": {
        "autosize": true,
        "dragmode": false,
        "legend": {
         "tracegroupgap": 0
        },
        "template": {
         "data": {
          "bar": [
           {
            "error_x": {
             "color": "#2a3f5f"
            },
            "error_y": {
             "color": "#2a3f5f"
            },
            "marker": {
             "line": {
              "color": "#E5ECF6",
              "width": 0.5
             }
            },
            "type": "bar"
           }
          ],
          "barpolar": [
           {
            "marker": {
             "line": {
              "color": "#E5ECF6",
              "width": 0.5
             }
            },
            "type": "barpolar"
           }
          ],
          "carpet": [
           {
            "aaxis": {
             "endlinecolor": "#2a3f5f",
             "gridcolor": "white",
             "linecolor": "white",
             "minorgridcolor": "white",
             "startlinecolor": "#2a3f5f"
            },
            "baxis": {
             "endlinecolor": "#2a3f5f",
             "gridcolor": "white",
             "linecolor": "white",
             "minorgridcolor": "white",
             "startlinecolor": "#2a3f5f"
            },
            "type": "carpet"
           }
          ],
          "choropleth": [
           {
            "colorbar": {
             "outlinewidth": 0,
             "ticks": ""
            },
            "type": "choropleth"
           }
          ],
          "contour": [
           {
            "colorbar": {
             "outlinewidth": 0,
             "ticks": ""
            },
            "colorscale": [
             [
              0,
              "#0d0887"
             ],
             [
              0.1111111111111111,
              "#46039f"
             ],
             [
              0.2222222222222222,
              "#7201a8"
             ],
             [
              0.3333333333333333,
              "#9c179e"
             ],
             [
              0.4444444444444444,
              "#bd3786"
             ],
             [
              0.5555555555555556,
              "#d8576b"
             ],
             [
              0.6666666666666666,
              "#ed7953"
             ],
             [
              0.7777777777777778,
              "#fb9f3a"
             ],
             [
              0.8888888888888888,
              "#fdca26"
             ],
             [
              1,
              "#f0f921"
             ]
            ],
            "type": "contour"
           }
          ],
          "contourcarpet": [
           {
            "colorbar": {
             "outlinewidth": 0,
             "ticks": ""
            },
            "type": "contourcarpet"
           }
          ],
          "heatmap": [
           {
            "colorbar": {
             "outlinewidth": 0,
             "ticks": ""
            },
            "colorscale": [
             [
              0,
              "#0d0887"
             ],
             [
              0.1111111111111111,
              "#46039f"
             ],
             [
              0.2222222222222222,
              "#7201a8"
             ],
             [
              0.3333333333333333,
              "#9c179e"
             ],
             [
              0.4444444444444444,
              "#bd3786"
             ],
             [
              0.5555555555555556,
              "#d8576b"
             ],
             [
              0.6666666666666666,
              "#ed7953"
             ],
             [
              0.7777777777777778,
              "#fb9f3a"
             ],
             [
              0.8888888888888888,
              "#fdca26"
             ],
             [
              1,
              "#f0f921"
             ]
            ],
            "type": "heatmap"
           }
          ],
          "heatmapgl": [
           {
            "colorbar": {
             "outlinewidth": 0,
             "ticks": ""
            },
            "colorscale": [
             [
              0,
              "#0d0887"
             ],
             [
              0.1111111111111111,
              "#46039f"
             ],
             [
              0.2222222222222222,
              "#7201a8"
             ],
             [
              0.3333333333333333,
              "#9c179e"
             ],
             [
              0.4444444444444444,
              "#bd3786"
             ],
             [
              0.5555555555555556,
              "#d8576b"
             ],
             [
              0.6666666666666666,
              "#ed7953"
             ],
             [
              0.7777777777777778,
              "#fb9f3a"
             ],
             [
              0.8888888888888888,
              "#fdca26"
             ],
             [
              1,
              "#f0f921"
             ]
            ],
            "type": "heatmapgl"
           }
          ],
          "histogram": [
           {
            "marker": {
             "colorbar": {
              "outlinewidth": 0,
              "ticks": ""
             }
            },
            "type": "histogram"
           }
          ],
          "histogram2d": [
           {
            "colorbar": {
             "outlinewidth": 0,
             "ticks": ""
            },
            "colorscale": [
             [
              0,
              "#0d0887"
             ],
             [
              0.1111111111111111,
              "#46039f"
             ],
             [
              0.2222222222222222,
              "#7201a8"
             ],
             [
              0.3333333333333333,
              "#9c179e"
             ],
             [
              0.4444444444444444,
              "#bd3786"
             ],
             [
              0.5555555555555556,
              "#d8576b"
             ],
             [
              0.6666666666666666,
              "#ed7953"
             ],
             [
              0.7777777777777778,
              "#fb9f3a"
             ],
             [
              0.8888888888888888,
              "#fdca26"
             ],
             [
              1,
              "#f0f921"
             ]
            ],
            "type": "histogram2d"
           }
          ],
          "histogram2dcontour": [
           {
            "colorbar": {
             "outlinewidth": 0,
             "ticks": ""
            },
            "colorscale": [
             [
              0,
              "#0d0887"
             ],
             [
              0.1111111111111111,
              "#46039f"
             ],
             [
              0.2222222222222222,
              "#7201a8"
             ],
             [
              0.3333333333333333,
              "#9c179e"
             ],
             [
              0.4444444444444444,
              "#bd3786"
             ],
             [
              0.5555555555555556,
              "#d8576b"
             ],
             [
              0.6666666666666666,
              "#ed7953"
             ],
             [
              0.7777777777777778,
              "#fb9f3a"
             ],
             [
              0.8888888888888888,
              "#fdca26"
             ],
             [
              1,
              "#f0f921"
             ]
            ],
            "type": "histogram2dcontour"
           }
          ],
          "mesh3d": [
           {
            "colorbar": {
             "outlinewidth": 0,
             "ticks": ""
            },
            "type": "mesh3d"
           }
          ],
          "parcoords": [
           {
            "line": {
             "colorbar": {
              "outlinewidth": 0,
              "ticks": ""
             }
            },
            "type": "parcoords"
           }
          ],
          "pie": [
           {
            "automargin": true,
            "type": "pie"
           }
          ],
          "scatter": [
           {
            "marker": {
             "colorbar": {
              "outlinewidth": 0,
              "ticks": ""
             }
            },
            "type": "scatter"
           }
          ],
          "scatter3d": [
           {
            "line": {
             "colorbar": {
              "outlinewidth": 0,
              "ticks": ""
             }
            },
            "marker": {
             "colorbar": {
              "outlinewidth": 0,
              "ticks": ""
             }
            },
            "type": "scatter3d"
           }
          ],
          "scattercarpet": [
           {
            "marker": {
             "colorbar": {
              "outlinewidth": 0,
              "ticks": ""
             }
            },
            "type": "scattercarpet"
           }
          ],
          "scattergeo": [
           {
            "marker": {
             "colorbar": {
              "outlinewidth": 0,
              "ticks": ""
             }
            },
            "type": "scattergeo"
           }
          ],
          "scattergl": [
           {
            "marker": {
             "colorbar": {
              "outlinewidth": 0,
              "ticks": ""
             }
            },
            "type": "scattergl"
           }
          ],
          "scattermapbox": [
           {
            "marker": {
             "colorbar": {
              "outlinewidth": 0,
              "ticks": ""
             }
            },
            "type": "scattermapbox"
           }
          ],
          "scatterpolar": [
           {
            "marker": {
             "colorbar": {
              "outlinewidth": 0,
              "ticks": ""
             }
            },
            "type": "scatterpolar"
           }
          ],
          "scatterpolargl": [
           {
            "marker": {
             "colorbar": {
              "outlinewidth": 0,
              "ticks": ""
             }
            },
            "type": "scatterpolargl"
           }
          ],
          "scatterternary": [
           {
            "marker": {
             "colorbar": {
              "outlinewidth": 0,
              "ticks": ""
             }
            },
            "type": "scatterternary"
           }
          ],
          "surface": [
           {
            "colorbar": {
             "outlinewidth": 0,
             "ticks": ""
            },
            "colorscale": [
             [
              0,
              "#0d0887"
             ],
             [
              0.1111111111111111,
              "#46039f"
             ],
             [
              0.2222222222222222,
              "#7201a8"
             ],
             [
              0.3333333333333333,
              "#9c179e"
             ],
             [
              0.4444444444444444,
              "#bd3786"
             ],
             [
              0.5555555555555556,
              "#d8576b"
             ],
             [
              0.6666666666666666,
              "#ed7953"
             ],
             [
              0.7777777777777778,
              "#fb9f3a"
             ],
             [
              0.8888888888888888,
              "#fdca26"
             ],
             [
              1,
              "#f0f921"
             ]
            ],
            "type": "surface"
           }
          ],
          "table": [
           {
            "cells": {
             "fill": {
              "color": "#EBF0F8"
             },
             "line": {
              "color": "white"
             }
            },
            "header": {
             "fill": {
              "color": "#C8D4E3"
             },
             "line": {
              "color": "white"
             }
            },
            "type": "table"
           }
          ]
         },
         "layout": {
          "annotationdefaults": {
           "arrowcolor": "#2a3f5f",
           "arrowhead": 0,
           "arrowwidth": 1
          },
          "coloraxis": {
           "colorbar": {
            "outlinewidth": 0,
            "ticks": ""
           }
          },
          "colorscale": {
           "diverging": [
            [
             0,
             "#8e0152"
            ],
            [
             0.1,
             "#c51b7d"
            ],
            [
             0.2,
             "#de77ae"
            ],
            [
             0.3,
             "#f1b6da"
            ],
            [
             0.4,
             "#fde0ef"
            ],
            [
             0.5,
             "#f7f7f7"
            ],
            [
             0.6,
             "#e6f5d0"
            ],
            [
             0.7,
             "#b8e186"
            ],
            [
             0.8,
             "#7fbc41"
            ],
            [
             0.9,
             "#4d9221"
            ],
            [
             1,
             "#276419"
            ]
           ],
           "sequential": [
            [
             0,
             "#0d0887"
            ],
            [
             0.1111111111111111,
             "#46039f"
            ],
            [
             0.2222222222222222,
             "#7201a8"
            ],
            [
             0.3333333333333333,
             "#9c179e"
            ],
            [
             0.4444444444444444,
             "#bd3786"
            ],
            [
             0.5555555555555556,
             "#d8576b"
            ],
            [
             0.6666666666666666,
             "#ed7953"
            ],
            [
             0.7777777777777778,
             "#fb9f3a"
            ],
            [
             0.8888888888888888,
             "#fdca26"
            ],
            [
             1,
             "#f0f921"
            ]
           ],
           "sequentialminus": [
            [
             0,
             "#0d0887"
            ],
            [
             0.1111111111111111,
             "#46039f"
            ],
            [
             0.2222222222222222,
             "#7201a8"
            ],
            [
             0.3333333333333333,
             "#9c179e"
            ],
            [
             0.4444444444444444,
             "#bd3786"
            ],
            [
             0.5555555555555556,
             "#d8576b"
            ],
            [
             0.6666666666666666,
             "#ed7953"
            ],
            [
             0.7777777777777778,
             "#fb9f3a"
            ],
            [
             0.8888888888888888,
             "#fdca26"
            ],
            [
             1,
             "#f0f921"
            ]
           ]
          },
          "colorway": [
           "#636efa",
           "#EF553B",
           "#00cc96",
           "#ab63fa",
           "#FFA15A",
           "#19d3f3",
           "#FF6692",
           "#B6E880",
           "#FF97FF",
           "#FECB52"
          ],
          "font": {
           "color": "#2a3f5f"
          },
          "geo": {
           "bgcolor": "white",
           "lakecolor": "white",
           "landcolor": "#E5ECF6",
           "showlakes": true,
           "showland": true,
           "subunitcolor": "white"
          },
          "hoverlabel": {
           "align": "left"
          },
          "hovermode": "closest",
          "mapbox": {
           "style": "light"
          },
          "paper_bgcolor": "white",
          "plot_bgcolor": "#E5ECF6",
          "polar": {
           "angularaxis": {
            "gridcolor": "white",
            "linecolor": "white",
            "ticks": ""
           },
           "bgcolor": "#E5ECF6",
           "radialaxis": {
            "gridcolor": "white",
            "linecolor": "white",
            "ticks": ""
           }
          },
          "scene": {
           "xaxis": {
            "backgroundcolor": "#E5ECF6",
            "gridcolor": "white",
            "gridwidth": 2,
            "linecolor": "white",
            "showbackground": true,
            "ticks": "",
            "zerolinecolor": "white"
           },
           "yaxis": {
            "backgroundcolor": "#E5ECF6",
            "gridcolor": "white",
            "gridwidth": 2,
            "linecolor": "white",
            "showbackground": true,
            "ticks": "",
            "zerolinecolor": "white"
           },
           "zaxis": {
            "backgroundcolor": "#E5ECF6",
            "gridcolor": "white",
            "gridwidth": 2,
            "linecolor": "white",
            "showbackground": true,
            "ticks": "",
            "zerolinecolor": "white"
           }
          },
          "shapedefaults": {
           "line": {
            "color": "#2a3f5f"
           }
          },
          "ternary": {
           "aaxis": {
            "gridcolor": "white",
            "linecolor": "white",
            "ticks": ""
           },
           "baxis": {
            "gridcolor": "white",
            "linecolor": "white",
            "ticks": ""
           },
           "bgcolor": "#E5ECF6",
           "caxis": {
            "gridcolor": "white",
            "linecolor": "white",
            "ticks": ""
           }
          },
          "title": {
           "x": 0.05
          },
          "xaxis": {
           "automargin": true,
           "gridcolor": "white",
           "linecolor": "white",
           "ticks": "",
           "title": {
            "standoff": 15
           },
           "zerolinecolor": "white",
           "zerolinewidth": 2
          },
          "yaxis": {
           "automargin": true,
           "gridcolor": "white",
           "linecolor": "white",
           "ticks": "",
           "title": {
            "standoff": 15
           },
           "zerolinecolor": "white",
           "zerolinewidth": 2
          }
         }
        },
        "title": {
         "text": "2000"
        },
        "xaxis": {
         "anchor": "y",
         "domain": [
          0,
          1
         ],
         "range": [
          124.46,
          101376.5
         ],
         "title": {
          "text": "GDP"
         },
         "type": "linear"
        },
        "yaxis": {
         "anchor": "x",
         "domain": [
          0,
          1
         ],
         "range": [
          0.02,
          58.62
         ],
         "title": {
          "text": "CO2"
         },
         "type": "linear"
        }
       }
      },
      "image/png": "[encoded data removed]"
     },
     "metadata": {},
     "output_type": "display_data"
    },
    {
     "data": {
      "application/vnd.plotly.v1+json": {
       "config": {
        "plotlyServerURL": "https://plot.ly"
       },
       "data": [
        {
         "hovertemplate": "<b>%{hovertext}</b><br><br>GDP=%{x}<br>CO2=%{y}<extra></extra>",
         "hovertext": [
          "Albania",
          "Algeria",
          "Andorra",
          "Angola",
          "Antigua and Barbuda",
          "Argentina",
          "Armenia",
          "Australia",
          "Austria",
          "Azerbaijan",
          "Bahamas",
          "Bahrain",
          "Bangladesh",
          "Barbados",
          "Belarus",
          "Belgium",
          "Belize",
          "Benin",
          "Bhutan",
          "Bolivia",
          "Bosnia and Herzegovina",
          "Botswana",
          "Brazil",
          "Bulgaria",
          "Burkina Faso",
          "Burundi",
          "Cambodia",
          "Cameroon",
          "Canada",
          "Central African Republic",
          "Chad",
          "Chile",
          "China",
          "Colombia",
          "Comoros",
          "The Democratic Republic of Congo",
          "Congo",
          "Costa Rica",
          "Cote d'Ivoire",
          "Croatia",
          "Cuba",
          "Cyprus",
          "Czech Republic",
          "Denmark",
          "Djibouti",
          "Dominica",
          "Dominican Republic",
          "Ecuador",
          "Egypt",
          "El Salvador",
          "Equatorial Guinea",
          "Estonia",
          "Ethiopia",
          "Faroe Islands",
          "Fiji",
          "Finland",
          "Gabon",
          "Gambia",
          "Georgia",
          "Germany",
          "Ghana",
          "Greece",
          "Greenland",
          "Grenada",
          "Guatemala",
          "Guinea",
          "Guinea-Bissau",
          "Guyana",
          "Haiti",
          "Honduras",
          "Hong Kong",
          "Hungary",
          "Iceland",
          "India",
          "Indonesia",
          "Iran",
          "Ireland",
          "Israel",
          "Jamaica",
          "Japan",
          "Jordan",
          "Kazakhstan",
          "Kenya",
          "Kiribati",
          "South Korea",
          "Kuwait",
          "Kyrgyz Republic",
          "Laos",
          "Latvia",
          "Lebanon",
          "Lesotho",
          "Liberia",
          "Libya",
          "Lithuania",
          "Luxembourg",
          "Macao",
          "Madagascar",
          "Malawi",
          "Malaysia",
          "Maldives",
          "Mali",
          "Malta",
          "Marshall Islands",
          "Mauritania",
          "Mauritius",
          "Mexico",
          "Moldova",
          "Mongolia",
          "Morocco",
          "Mozambique",
          "Myanmar",
          "Namibia",
          "Nepal",
          "Netherlands",
          "New Zealand",
          "Nicaragua",
          "Niger",
          "Nigeria",
          "North Macedonia",
          "Norway",
          "Oman",
          "Pakistan",
          "Palau",
          "Panama",
          "Papua New Guinea",
          "Paraguay",
          "Peru",
          "Philippines",
          "Poland",
          "Portugal",
          "Qatar",
          "Romania",
          "Russian Federation",
          "Rwanda",
          "Samoa",
          "Saudi Arabia",
          "Senegal",
          "Seychelles",
          "Sierra Leone",
          "Singapore",
          "Slovak Republic",
          "Slovenia",
          "Solomon Islands",
          "South Africa",
          "Spain",
          "Sri Lanka",
          "Saint Kitts and Nevis",
          "Saint Lucia",
          "Saint Vincent and the Grenadines",
          "Suriname",
          "Sweden",
          "Switzerland",
          "Tajikistan",
          "Tanzania",
          "Thailand",
          "Togo",
          "Tonga",
          "Trinidad and Tobago",
          "Tunisia",
          "Turkey",
          "Turkmenistan",
          "Tuvalu",
          "Uganda",
          "Ukraine",
          "United Arab Emirates",
          "United Kingdom",
          "United States",
          "Uruguay",
          "Uzbekistan",
          "Vanuatu",
          "Vietnam",
          "Yemen",
          "Zambia",
          "Zimbabwe"
         ],
         "legendgroup": "",
         "marker": {
          "color": "#636efa",
          "symbol": "circle"
         },
         "mode": "markers",
         "name": "",
         "orientation": "v",
         "showlegend": false,
         "type": "scatter",
         "x": [
          3952.8,
          4177.89,
          35762.52,
          4166.98,
          14286.09,
          13789.06,
          3607.3,
          56755.72,
          44178.05,
          5500.31,
          31405.96,
          22688.94,
          1248.45,
          16525.07,
          5949.11,
          40991.81,
          4775.96,
          1076.8,
          2752.66,
          3035.97,
          4727.28,
          6799.88,
          8814,
          7053.6,
          653.33,
          305.55,
          1162.9,
          1327.5,
          43585.51,
          377.42,
          776.02,
          13574.17,
          8066.94,
          6175.88,
          1242.6,
          497.32,
          1762.03,
          11299.14,
          1972.55,
          11782.9,
          7694.01,
          23333.71,
          17715.62,
          53254.86,
          2658.98,
          7596.44,
          6921.52,
          6124.49,
          3598.97,
          3705.58,
          11283.47,
          17522.23,
          640.54,
          52404.66,
          5390.75,
          42784.7,
          7384.72,
          649.51,
          4014.19,
          41139.54,
          1743.85,
          18167.77,
          44536.4,
          9096.87,
          3994.64,
          769.26,
          603.16,
          4166.13,
          815.73,
          2302.2,
          42431.89,
          12651.57,
          52564.43,
          1605.61,
          3331.7,
          4904.33,
          61995.42,
          35776.8,
          4907.5,
          34524.47,
          4105.45,
          10510.77,
          1336.88,
          1542.58,
          28732.23,
          29869.53,
          1121.08,
          2134.71,
          13698.94,
          7644.55,
          1152.14,
          710.38,
          4337.92,
          14249.11,
          101376.5,
          75340.99,
          467.24,
          380.6,
          9955.24,
          9033.39,
          751.48,
          24002.52,
          3213.84,
          1524.07,
          9260.45,
          9605.95,
          2732.46,
          3918.58,
          2875.26,
          589.86,
          1287.43,
          4869.38,
          792.55,
          45175.23,
          38616,
          2049.85,
          483.34,
          2730.43,
          4840.27,
          74355.52,
          16028.75,
          1356.67,
          15871.84,
          13630.31,
          2679.35,
          5406.7,
          6229.1,
          3001.04,
          12572.43,
          19242.37,
          63039.02,
          8977.44,
          9313.01,
          754.91,
          4073.67,
          20627.93,
          1219.25,
          14745.34,
          588.23,
          55646.62,
          16309.07,
          20881.77,
          1914.47,
          5734.63,
          25732.02,
          3843.78,
          18029.33,
          10093.9,
          6920.88,
          8561.97,
          51545.48,
          82081.6,
          929.1,
          947.93,
          5840.05,
          570.91,
          4320.64,
          18289.7,
          3861.69,
          10948.72,
          6432.68,
          3197.77,
          840.4,
          2124.66,
          38663.38,
          44974.83,
          56822.52,
          15613.76,
          2615.03,
          2801.94,
          2085.1,
          1395.44,
          1337.8,
          1445.07
         ],
         "xaxis": "x",
         "y": [
          1.6,
          3.85,
          5.97,
          1.24,
          5.84,
          4.66,
          1.64,
          15.34,
          7.09,
          3.9,
          5.39,
          23.98,
          0.52,
          4.4,
          6.14,
          8.81,
          1.61,
          0.57,
          1.47,
          1.85,
          5.41,
          2.56,
          2.47,
          6.23,
          0.18,
          0.04,
          0.56,
          0.34,
          15.39,
          0.07,
          0.07,
          4.63,
          7.4,
          1.98,
          0.22,
          0.04,
          0.67,
          1.55,
          0.47,
          4.12,
          2.58,
          5.29,
          9.47,
          5.42,
          0.69,
          2.47,
          2.35,
          2.67,
          2.43,
          1.08,
          5.16,
          12.44,
          0.14,
          12.67,
          2.48,
          7.78,
          2.7,
          0.25,
          2.63,
          8.9,
          0.59,
          6.01,
          9.08,
          2.38,
          1.02,
          0.24,
          0.16,
          2.63,
          0.27,
          1.1,
          5.85,
          4.51,
          6.01,
          1.78,
          1.98,
          8.28,
          7.64,
          7.9,
          2.62,
          9.15,
          2.83,
          13.8,
          0.36,
          0.56,
          11.71,
          24.24,
          1.75,
          1.34,
          3.54,
          3.75,
          1.14,
          0.28,
          8.88,
          4.5,
          16.24,
          3.47,
          0.15,
          0.07,
          7.76,
          2.86,
          0.18,
          3.64,
          2.49,
          0.72,
          3.34,
          3.96,
          1.74,
          7.77,
          1.77,
          0.24,
          0.42,
          1.72,
          0.23,
          10.18,
          7.59,
          0.86,
          0.1,
          0.64,
          3.41,
          9.1,
          15.32,
          0.95,
          12.66,
          2.8,
          0.92,
          0.94,
          1.73,
          1.15,
          7.52,
          4.76,
          41.64,
          3.62,
          11.79,
          0.08,
          1.21,
          20.4,
          0.73,
          5.26,
          0.15,
          11.1,
          5.77,
          6.07,
          0.32,
          8.38,
          5.39,
          0.96,
          4.58,
          2.29,
          2.02,
          3.08,
          3.9,
          4.31,
          0.59,
          0.25,
          4.14,
          0.36,
          1.2,
          33.76,
          2.71,
          4.46,
          12.7,
          0.99,
          0.14,
          4.35,
          21.03,
          6.22,
          15.99,
          1.96,
          3.29,
          0.49,
          2.03,
          0.5,
          0.29,
          0.89
         ],
         "yaxis": "y"
        }
       ],
       "layout": {
        "autosize": true,
        "dragmode": false,
        "legend": {
         "tracegroupgap": 0
        },
        "template": {
         "data": {
          "bar": [
           {
            "error_x": {
             "color": "#2a3f5f"
            },
            "error_y": {
             "color": "#2a3f5f"
            },
            "marker": {
             "line": {
              "color": "#E5ECF6",
              "width": 0.5
             }
            },
            "type": "bar"
           }
          ],
          "barpolar": [
           {
            "marker": {
             "line": {
              "color": "#E5ECF6",
              "width": 0.5
             }
            },
            "type": "barpolar"
           }
          ],
          "carpet": [
           {
            "aaxis": {
             "endlinecolor": "#2a3f5f",
             "gridcolor": "white",
             "linecolor": "white",
             "minorgridcolor": "white",
             "startlinecolor": "#2a3f5f"
            },
            "baxis": {
             "endlinecolor": "#2a3f5f",
             "gridcolor": "white",
             "linecolor": "white",
             "minorgridcolor": "white",
             "startlinecolor": "#2a3f5f"
            },
            "type": "carpet"
           }
          ],
          "choropleth": [
           {
            "colorbar": {
             "outlinewidth": 0,
             "ticks": ""
            },
            "type": "choropleth"
           }
          ],
          "contour": [
           {
            "colorbar": {
             "outlinewidth": 0,
             "ticks": ""
            },
            "colorscale": [
             [
              0,
              "#0d0887"
             ],
             [
              0.1111111111111111,
              "#46039f"
             ],
             [
              0.2222222222222222,
              "#7201a8"
             ],
             [
              0.3333333333333333,
              "#9c179e"
             ],
             [
              0.4444444444444444,
              "#bd3786"
             ],
             [
              0.5555555555555556,
              "#d8576b"
             ],
             [
              0.6666666666666666,
              "#ed7953"
             ],
             [
              0.7777777777777778,
              "#fb9f3a"
             ],
             [
              0.8888888888888888,
              "#fdca26"
             ],
             [
              1,
              "#f0f921"
             ]
            ],
            "type": "contour"
           }
          ],
          "contourcarpet": [
           {
            "colorbar": {
             "outlinewidth": 0,
             "ticks": ""
            },
            "type": "contourcarpet"
           }
          ],
          "heatmap": [
           {
            "colorbar": {
             "outlinewidth": 0,
             "ticks": ""
            },
            "colorscale": [
             [
              0,
              "#0d0887"
             ],
             [
              0.1111111111111111,
              "#46039f"
             ],
             [
              0.2222222222222222,
              "#7201a8"
             ],
             [
              0.3333333333333333,
              "#9c179e"
             ],
             [
              0.4444444444444444,
              "#bd3786"
             ],
             [
              0.5555555555555556,
              "#d8576b"
             ],
             [
              0.6666666666666666,
              "#ed7953"
             ],
             [
              0.7777777777777778,
              "#fb9f3a"
             ],
             [
              0.8888888888888888,
              "#fdca26"
             ],
             [
              1,
              "#f0f921"
             ]
            ],
            "type": "heatmap"
           }
          ],
          "heatmapgl": [
           {
            "colorbar": {
             "outlinewidth": 0,
             "ticks": ""
            },
            "colorscale": [
             [
              0,
              "#0d0887"
             ],
             [
              0.1111111111111111,
              "#46039f"
             ],
             [
              0.2222222222222222,
              "#7201a8"
             ],
             [
              0.3333333333333333,
              "#9c179e"
             ],
             [
              0.4444444444444444,
              "#bd3786"
             ],
             [
              0.5555555555555556,
              "#d8576b"
             ],
             [
              0.6666666666666666,
              "#ed7953"
             ],
             [
              0.7777777777777778,
              "#fb9f3a"
             ],
             [
              0.8888888888888888,
              "#fdca26"
             ],
             [
              1,
              "#f0f921"
             ]
            ],
            "type": "heatmapgl"
           }
          ],
          "histogram": [
           {
            "marker": {
             "colorbar": {
              "outlinewidth": 0,
              "ticks": ""
             }
            },
            "type": "histogram"
           }
          ],
          "histogram2d": [
           {
            "colorbar": {
             "outlinewidth": 0,
             "ticks": ""
            },
            "colorscale": [
             [
              0,
              "#0d0887"
             ],
             [
              0.1111111111111111,
              "#46039f"
             ],
             [
              0.2222222222222222,
              "#7201a8"
             ],
             [
              0.3333333333333333,
              "#9c179e"
             ],
             [
              0.4444444444444444,
              "#bd3786"
             ],
             [
              0.5555555555555556,
              "#d8576b"
             ],
             [
              0.6666666666666666,
              "#ed7953"
             ],
             [
              0.7777777777777778,
              "#fb9f3a"
             ],
             [
              0.8888888888888888,
              "#fdca26"
             ],
             [
              1,
              "#f0f921"
             ]
            ],
            "type": "histogram2d"
           }
          ],
          "histogram2dcontour": [
           {
            "colorbar": {
             "outlinewidth": 0,
             "ticks": ""
            },
            "colorscale": [
             [
              0,
              "#0d0887"
             ],
             [
              0.1111111111111111,
              "#46039f"
             ],
             [
              0.2222222222222222,
              "#7201a8"
             ],
             [
              0.3333333333333333,
              "#9c179e"
             ],
             [
              0.4444444444444444,
              "#bd3786"
             ],
             [
              0.5555555555555556,
              "#d8576b"
             ],
             [
              0.6666666666666666,
              "#ed7953"
             ],
             [
              0.7777777777777778,
              "#fb9f3a"
             ],
             [
              0.8888888888888888,
              "#fdca26"
             ],
             [
              1,
              "#f0f921"
             ]
            ],
            "type": "histogram2dcontour"
           }
          ],
          "mesh3d": [
           {
            "colorbar": {
             "outlinewidth": 0,
             "ticks": ""
            },
            "type": "mesh3d"
           }
          ],
          "parcoords": [
           {
            "line": {
             "colorbar": {
              "outlinewidth": 0,
              "ticks": ""
             }
            },
            "type": "parcoords"
           }
          ],
          "pie": [
           {
            "automargin": true,
            "type": "pie"
           }
          ],
          "scatter": [
           {
            "marker": {
             "colorbar": {
              "outlinewidth": 0,
              "ticks": ""
             }
            },
            "type": "scatter"
           }
          ],
          "scatter3d": [
           {
            "line": {
             "colorbar": {
              "outlinewidth": 0,
              "ticks": ""
             }
            },
            "marker": {
             "colorbar": {
              "outlinewidth": 0,
              "ticks": ""
             }
            },
            "type": "scatter3d"
           }
          ],
          "scattercarpet": [
           {
            "marker": {
             "colorbar": {
              "outlinewidth": 0,
              "ticks": ""
             }
            },
            "type": "scattercarpet"
           }
          ],
          "scattergeo": [
           {
            "marker": {
             "colorbar": {
              "outlinewidth": 0,
              "ticks": ""
             }
            },
            "type": "scattergeo"
           }
          ],
          "scattergl": [
           {
            "marker": {
             "colorbar": {
              "outlinewidth": 0,
              "ticks": ""
             }
            },
            "type": "scattergl"
           }
          ],
          "scattermapbox": [
           {
            "marker": {
             "colorbar": {
              "outlinewidth": 0,
              "ticks": ""
             }
            },
            "type": "scattermapbox"
           }
          ],
          "scatterpolar": [
           {
            "marker": {
             "colorbar": {
              "outlinewidth": 0,
              "ticks": ""
             }
            },
            "type": "scatterpolar"
           }
          ],
          "scatterpolargl": [
           {
            "marker": {
             "colorbar": {
              "outlinewidth": 0,
              "ticks": ""
             }
            },
            "type": "scatterpolargl"
           }
          ],
          "scatterternary": [
           {
            "marker": {
             "colorbar": {
              "outlinewidth": 0,
              "ticks": ""
             }
            },
            "type": "scatterternary"
           }
          ],
          "surface": [
           {
            "colorbar": {
             "outlinewidth": 0,
             "ticks": ""
            },
            "colorscale": [
             [
              0,
              "#0d0887"
             ],
             [
              0.1111111111111111,
              "#46039f"
             ],
             [
              0.2222222222222222,
              "#7201a8"
             ],
             [
              0.3333333333333333,
              "#9c179e"
             ],
             [
              0.4444444444444444,
              "#bd3786"
             ],
             [
              0.5555555555555556,
              "#d8576b"
             ],
             [
              0.6666666666666666,
              "#ed7953"
             ],
             [
              0.7777777777777778,
              "#fb9f3a"
             ],
             [
              0.8888888888888888,
              "#fdca26"
             ],
             [
              1,
              "#f0f921"
             ]
            ],
            "type": "surface"
           }
          ],
          "table": [
           {
            "cells": {
             "fill": {
              "color": "#EBF0F8"
             },
             "line": {
              "color": "white"
             }
            },
            "header": {
             "fill": {
              "color": "#C8D4E3"
             },
             "line": {
              "color": "white"
             }
            },
            "type": "table"
           }
          ]
         },
         "layout": {
          "annotationdefaults": {
           "arrowcolor": "#2a3f5f",
           "arrowhead": 0,
           "arrowwidth": 1
          },
          "coloraxis": {
           "colorbar": {
            "outlinewidth": 0,
            "ticks": ""
           }
          },
          "colorscale": {
           "diverging": [
            [
             0,
             "#8e0152"
            ],
            [
             0.1,
             "#c51b7d"
            ],
            [
             0.2,
             "#de77ae"
            ],
            [
             0.3,
             "#f1b6da"
            ],
            [
             0.4,
             "#fde0ef"
            ],
            [
             0.5,
             "#f7f7f7"
            ],
            [
             0.6,
             "#e6f5d0"
            ],
            [
             0.7,
             "#b8e186"
            ],
            [
             0.8,
             "#7fbc41"
            ],
            [
             0.9,
             "#4d9221"
            ],
            [
             1,
             "#276419"
            ]
           ],
           "sequential": [
            [
             0,
             "#0d0887"
            ],
            [
             0.1111111111111111,
             "#46039f"
            ],
            [
             0.2222222222222222,
             "#7201a8"
            ],
            [
             0.3333333333333333,
             "#9c179e"
            ],
            [
             0.4444444444444444,
             "#bd3786"
            ],
            [
             0.5555555555555556,
             "#d8576b"
            ],
            [
             0.6666666666666666,
             "#ed7953"
            ],
            [
             0.7777777777777778,
             "#fb9f3a"
            ],
            [
             0.8888888888888888,
             "#fdca26"
            ],
            [
             1,
             "#f0f921"
            ]
           ],
           "sequentialminus": [
            [
             0,
             "#0d0887"
            ],
            [
             0.1111111111111111,
             "#46039f"
            ],
            [
             0.2222222222222222,
             "#7201a8"
            ],
            [
             0.3333333333333333,
             "#9c179e"
            ],
            [
             0.4444444444444444,
             "#bd3786"
            ],
            [
             0.5555555555555556,
             "#d8576b"
            ],
            [
             0.6666666666666666,
             "#ed7953"
            ],
            [
             0.7777777777777778,
             "#fb9f3a"
            ],
            [
             0.8888888888888888,
             "#fdca26"
            ],
            [
             1,
             "#f0f921"
            ]
           ]
          },
          "colorway": [
           "#636efa",
           "#EF553B",
           "#00cc96",
           "#ab63fa",
           "#FFA15A",
           "#19d3f3",
           "#FF6692",
           "#B6E880",
           "#FF97FF",
           "#FECB52"
          ],
          "font": {
           "color": "#2a3f5f"
          },
          "geo": {
           "bgcolor": "white",
           "lakecolor": "white",
           "landcolor": "#E5ECF6",
           "showlakes": true,
           "showland": true,
           "subunitcolor": "white"
          },
          "hoverlabel": {
           "align": "left"
          },
          "hovermode": "closest",
          "mapbox": {
           "style": "light"
          },
          "paper_bgcolor": "white",
          "plot_bgcolor": "#E5ECF6",
          "polar": {
           "angularaxis": {
            "gridcolor": "white",
            "linecolor": "white",
            "ticks": ""
           },
           "bgcolor": "#E5ECF6",
           "radialaxis": {
            "gridcolor": "white",
            "linecolor": "white",
            "ticks": ""
           }
          },
          "scene": {
           "xaxis": {
            "backgroundcolor": "#E5ECF6",
            "gridcolor": "white",
            "gridwidth": 2,
            "linecolor": "white",
            "showbackground": true,
            "ticks": "",
            "zerolinecolor": "white"
           },
           "yaxis": {
            "backgroundcolor": "#E5ECF6",
            "gridcolor": "white",
            "gridwidth": 2,
            "linecolor": "white",
            "showbackground": true,
            "ticks": "",
            "zerolinecolor": "white"
           },
           "zaxis": {
            "backgroundcolor": "#E5ECF6",
            "gridcolor": "white",
            "gridwidth": 2,
            "linecolor": "white",
            "showbackground": true,
            "ticks": "",
            "zerolinecolor": "white"
           }
          },
          "shapedefaults": {
           "line": {
            "color": "#2a3f5f"
           }
          },
          "ternary": {
           "aaxis": {
            "gridcolor": "white",
            "linecolor": "white",
            "ticks": ""
           },
           "baxis": {
            "gridcolor": "white",
            "linecolor": "white",
            "ticks": ""
           },
           "bgcolor": "#E5ECF6",
           "caxis": {
            "gridcolor": "white",
            "linecolor": "white",
            "ticks": ""
           }
          },
          "title": {
           "x": 0.05
          },
          "xaxis": {
           "automargin": true,
           "gridcolor": "white",
           "linecolor": "white",
           "ticks": "",
           "title": {
            "standoff": 15
           },
           "zerolinecolor": "white",
           "zerolinewidth": 2
          },
          "yaxis": {
           "automargin": true,
           "gridcolor": "white",
           "linecolor": "white",
           "ticks": "",
           "title": {
            "standoff": 15
           },
           "zerolinecolor": "white",
           "zerolinewidth": 2
          }
         }
        },
        "title": {
         "text": "2015"
        },
        "xaxis": {
         "anchor": "y",
         "domain": [
          0,
          1
         ],
         "range": [
          124.46,
          101376.5
         ],
         "title": {
          "text": "GDP"
         },
         "type": "linear"
        },
        "yaxis": {
         "anchor": "x",
         "domain": [
          0,
          1
         ],
         "range": [
          0.02,
          58.62
         ],
         "title": {
          "text": "CO2"
         },
         "type": "linear"
        }
       }
      },
      "image/png": "[encoded data removed]"
     },
     "metadata": {},
     "output_type": "display_data"
    }
   ],
   "source": [
    "fig_2000 = get_scatter(df_2000, '2000')\n",
    "fig_2015 = get_scatter(df_2015, '2015')\n",
    "\n",
    "fig_2000.update_layout(xaxis=dict(range=get_range('GDP', df_2000, df_2015)))\n",
    "fig_2000.update_layout(yaxis=dict(range=get_range('CO2', df_2000, df_2015)))\n",
    "fig_2000.update_layout(dragmode=False)\n",
    "fig_2000.show()\n",
    "\n",
    "fig_2015.update_layout(xaxis=dict(range=get_range('GDP', df_2000, df_2015)))\n",
    "fig_2015.update_layout(yaxis=dict(range=get_range('CO2', df_2000, df_2015)))\n",
    "fig_2015.update_layout(dragmode=False);\n",
    "fig_2015.show()"
   ]
  },
  {
   "cell_type": "code",
   "execution_count": 34,
   "metadata": {},
   "outputs": [],
   "source": [
    "config=dict(\n",
    "                scrollZoom=False,\n",
    "                showTips=False,\n",
    "                showAxisDragHandles=False,\n",
    "                doubleClick=False,\n",
    "                displayModeBar=False\n",
    "            )\n",
    "\n",
    "app.layout = html.Div(children=[\n",
    "        html.Div(className='row', children=[dcc.Graph(id='fig-2000', figure=fig_2000, className='six columns', config=config), dcc.Graph(id='fig-2015', figure=fig_2015, className='six columns', config=config)]),\n",
    "        html.Div(style = {'width': '100%', 'display': 'flex', 'alignItems': 'center', 'justifyContent': 'center', 'flexDirection' : 'column'}, children=[\n",
    "            html.H4('Hover over markers for more information', id='country'),\n",
    "            html.Table(children=[\n",
    "                html.Thead(html.Tr(children=[html.Th(), html.Th('GDP per capita ($ USD)'), html.Th('CO2 emissions per capita (metric tonnes)')])),\n",
    "                html.Tbody(children=[\n",
    "                    html.Tr(children=[html.Th('2000'), html.Td(id='2000-gdp'), html.Td(id='2000-co2')]),\n",
    "                    html.Tr(children=[html.Th('2015'), html.Td(id='2015-gdp'), html.Td(id='2015-co2')])\n",
    "                ])\n",
    "            ])\n",
    "        ])\n",
    "    ])"
   ]
  },
  {
   "cell_type": "code",
   "execution_count": 35,
   "metadata": {},
   "outputs": [
    {
     "name": "stdout",
     "output_type": "stream",
     "text": [
      "Dash app running on http://127.0.0.1:8051/\n"
     ]
    }
   ],
   "source": [
    "# Use this cell to check your answer\n",
    "app.run_server(port=8051)"
   ]
  },
  {
   "cell_type": "markdown",
   "metadata": {},
   "source": [
    "# Question 3\n",
    "\n",
    "Now that you've seen both charts side-by-side, you've realized it might be interesting to model them with an animation. However, you'd like to be able to compare the data for countries more easily across the scatter plots.\n",
    "\n",
    "To do so, you will implement a callback function which is triggered whenever a point is hovered in one of the two scatter plots. The signature for this function is already started below. \n",
    "\n",
    "Complete the function so that whenever a point is hovered, the appropriate information is displayed in the table below the scatter plots. \n",
    "\n",
    "The title of the table should be the name of the country of the hovered point. Further, the table should contain the GDP and CO2 information for the years 2000 and 2015."
   ]
  },
  {
   "cell_type": "code",
   "execution_count": 36,
   "metadata": {},
   "outputs": [],
   "source": [
    "from dash.dependencies import Input, Output, State"
   ]
  },
  {
   "cell_type": "code",
   "execution_count": 39,
   "metadata": {},
   "outputs": [],
   "source": [
    "@app.callback(\n",
    "    [Output('country', 'children'), Output('2000-gdp', 'children'), Output('2000-co2', 'children'), Output('2015-gdp', 'children'), Output('2015-co2', 'children')],\n",
    "    [Input('fig-2000', 'hoverData'), Input('fig-2015', 'hoverData')],\n",
    "    [State('country', 'children'), State('2000-gdp', 'children'), State('2000-co2', 'children'), State('2015-gdp', 'children'), State('2015-co2', 'children')])\n",
    "def display_selected_data(hoverData2000, hoverData2015, prevCountry, prevgdp0, prevco20, prevgdp5, prevco25):\n",
    "    # TODO : Handle the display when a point is hovered\n",
    "    country = prevCountry\n",
    "    gdp0 = prevgdp0\n",
    "    co20 = prevco20\n",
    "    gdp5 = prevgdp5\n",
    "    co25 = prevco25\n",
    "\n",
    "    yearSelected = 'NaN'\n",
    "\n",
    "    if (hoverData2000 and hoverData2000['points'][0]['hovertext'] != prevCountry\n",
    "            and prevgdp0 != hoverData2000['points'][0]['x'] \n",
    "            and prevco20 != hoverData2000['points'][0]['y']):\n",
    "        yearSelected = '2000'\n",
    "    elif (hoverData2015 and hoverData2015['points'][0]['hovertext'] != prevCountry\n",
    "            and prevgdp5 != hoverData2015['points'][0]['x'] \n",
    "            and prevco25 != hoverData2015['points'][0]['y']):\n",
    "        yearSelected = '2015'\n",
    "    \n",
    "    if (yearSelected == '2000'):\n",
    "        country = hoverData2000['points'][0]['hovertext']\n",
    "        gdp0 = hoverData2000['points'][0]['x']\n",
    "        co20 = hoverData2000['points'][0]['y']\n",
    "    elif (yearSelected == '2015'):\n",
    "        country = hoverData2015['points'][0]['hovertext']\n",
    "        gdp5 = hoverData2015['points'][0]['x']\n",
    "        co25 = hoverData2015['points'][0]['y']\n",
    "\n",
    "    return country, gdp0, co20, gdp5, co25\n",
    "        \n",
    "    "
   ]
  },
  {
   "cell_type": "markdown",
   "metadata": {},
   "source": [
    "Run these next three cells to check your answer. You should see the table get filled when you hover a point in either scatter plot."
   ]
  },
  {
   "cell_type": "code",
   "execution_count": 40,
   "metadata": {},
   "outputs": [
    {
     "name": "stdout",
     "output_type": "stream",
     "text": [
      "Dash app running on http://127.0.0.1:8052/\n"
     ]
    }
   ],
   "source": [
    "# Use this cell to check your answer\n",
    "app.run_server(port=8052)"
   ]
  },
  {
   "cell_type": "markdown",
   "metadata": {},
   "source": [
    "# Next steps\n",
    "\n",
    "After this initial exploration step, you've decided you would like to implement this data visualization as a bubble chart with an animation to transition between the two years. You also would like to change the axes display to be log-scaled. You will reuse some of this code and complete the rest of the code provided with this TP to make these changes."
   ]
  }
 ],
 "metadata": {
  "interpreter": {
   "hash": "a375cf1a13538906275879a22685d8bbdd2cebfe5fd7a0984b273d0f59a01f14"
  },
  "kernelspec": {
   "display_name": "Python 3 (ipykernel)",
   "language": "python",
   "name": "python3"
  },
  "language_info": {
   "codemirror_mode": {
    "name": "ipython",
    "version": 3
   },
   "file_extension": ".py",
   "mimetype": "text/x-python",
   "name": "python",
   "nbconvert_exporter": "python",
   "pygments_lexer": "ipython3",
   "version": "3.9.12"
  }
 },
 "nbformat": 4,
 "nbformat_minor": 4
}
